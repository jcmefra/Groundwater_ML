{
 "cells": [
  {
   "cell_type": "markdown",
   "metadata": {},
   "source": [
    "# ML Model for Groundwater detection based on resistivity values\n",
    "**Author: Camilo Mejía**"
   ]
  },
  {
   "cell_type": "markdown",
   "metadata": {},
   "source": [
    "Import Dependencies"
   ]
  },
  {
   "cell_type": "code",
   "execution_count": 25,
   "metadata": {},
   "outputs": [],
   "source": [
    "import pandas as pd\n",
    "from sklearn.model_selection import train_test_split, GridSearchCV\n",
    "from sklearn.ensemble import RandomForestClassifier\n",
    "from sklearn.preprocessing import StandardScaler\n",
    "from sklearn.metrics import accuracy_score, classification_report\n",
    "from flask import Flask, request, jsonify\n",
    "from sklearn.pipeline import Pipeline"
   ]
  },
  {
   "cell_type": "markdown",
   "metadata": {},
   "source": [
    "Load dataset"
   ]
  },
  {
   "cell_type": "code",
   "execution_count": 26,
   "metadata": {},
   "outputs": [
    {
     "name": "stdout",
     "output_type": "stream",
     "text": [
      "   elec_pos  depth     rho      cond\n",
      "0      0.75  0.375  225.18  0.004441\n",
      "1      2.25  0.375  188.92  0.005293\n",
      "2      3.75  0.375  200.83  0.004979\n"
     ]
    }
   ],
   "source": [
    "inputfile = 'data_for_training/Guapota_Res.csv'\n",
    "raw_data = pd.read_csv(inputfile, delimiter= ',')  # Adjust delimiter if needed\n",
    "print(raw_data.head(3))"
   ]
  },
  {
   "cell_type": "markdown",
   "metadata": {},
   "source": [
    "Define rho thereshold and add a new column to define groundwater presence"
   ]
  },
  {
   "cell_type": "code",
   "execution_count": 27,
   "metadata": {},
   "outputs": [],
   "source": [
    "rho_threshold = 100\n",
    "raw_data['groundwater_presence'] = (raw_data['rho'] < rho_threshold).astype(int)"
   ]
  },
  {
   "cell_type": "markdown",
   "metadata": {},
   "source": [
    "Save the new csv including groundwater presence column"
   ]
  },
  {
   "cell_type": "code",
   "execution_count": 28,
   "metadata": {},
   "outputs": [],
   "source": [
    "output_file_path = \"data_for_training/Groundwater_presence.csv\"\n",
    "raw_data.to_csv(output_file_path, index=False)"
   ]
  },
  {
   "cell_type": "markdown",
   "metadata": {},
   "source": [
    "Define our training data"
   ]
  },
  {
   "cell_type": "code",
   "execution_count": 29,
   "metadata": {},
   "outputs": [
    {
     "name": "stdout",
     "output_type": "stream",
     "text": [
      "    elec_pos  depth       rho      cond  groundwater_presence\n",
      "0       0.75  0.375   225.180  0.004441                     0\n",
      "1       2.25  0.375   188.920  0.005293                     0\n",
      "2       3.75  0.375   200.830  0.004979                     0\n",
      "3       5.25  0.375   199.620  0.005010                     0\n",
      "4       6.75  0.375   303.020  0.003300                     0\n",
      "5       8.25  0.375   883.190  0.001132                     0\n",
      "6       9.75  0.375  3176.600  0.000315                     0\n",
      "7      11.25  0.375  6674.000  0.000150                     0\n",
      "8      12.75  0.375  1474.200  0.000678                     0\n",
      "9      14.25  0.375    64.377  0.015500                     1\n",
      "10     15.75  0.375    72.057  0.013900                     1\n",
      "11     17.25  0.375    53.930  0.018500                     1\n",
      "12     18.75  0.375   109.800  0.009107                     0\n",
      "13     20.25  0.375   229.720  0.004353                     0\n",
      "14     21.75  0.375   202.000  0.004950                     0\n",
      "15     23.25  0.375   356.390  0.002806                     0\n",
      "16     24.75  0.375   564.530  0.001771                     0\n",
      "17     26.25  0.375   583.220  0.001715                     0\n",
      "18     27.75  0.375   659.070  0.001517                     0\n",
      "19     29.25  0.375   327.600  0.003053                     0\n",
      "20     30.75  0.375   350.370  0.002854                     0\n",
      "21     32.25  0.375   205.840  0.004858                     0\n",
      "22     33.75  0.375   159.390  0.006274                     0\n",
      "23     35.25  0.375   191.360  0.005226                     0\n",
      "24     36.75  0.375   190.690  0.005244                     0\n",
      "25     38.25  0.375   169.370  0.005904                     0\n",
      "26     39.75  0.375   189.600  0.005274                     0\n",
      "27     41.25  0.375   189.840  0.005268                     0\n",
      "28     42.75  0.375   107.380  0.009313                     0\n",
      "29     44.25  0.375   137.640  0.007265                     0\n",
      "30     45.75  0.375   274.040  0.003649                     0\n",
      "31      0.75  1.125   217.380  0.004600                     0\n",
      "32      2.25  1.125   206.710  0.004838                     0\n",
      "33      3.75  1.125   201.270  0.004968                     0\n",
      "34      5.25  1.125   151.460  0.006602                     0\n",
      "35      6.75  1.125    21.449  0.046600                     1\n",
      "36      8.25  1.125   236.450  0.004229                     0\n",
      "37      9.75  1.125   153.270  0.006524                     0\n",
      "38     11.25  1.125     6.298  0.158800                     1\n",
      "39     12.75  1.125  1743.400  0.000574                     0\n",
      "40     14.25  1.125     8.867  0.112800                     1\n",
      "41     15.75  1.125   111.620  0.008959                     0\n",
      "42     17.25  1.125   125.240  0.007985                     0\n",
      "43     18.75  1.125   206.250  0.004848                     0\n",
      "44     20.25  1.125    28.902  0.034600                     1\n",
      "45     21.75  1.125   103.120  0.009697                     0\n",
      "46     23.25  1.125   105.570  0.009472                     0\n",
      "47     24.75  1.125   104.960  0.009527                     0\n",
      "48     26.25  1.125   112.660  0.008876                     0\n",
      "49     27.75  1.125   106.100  0.009425                     0\n"
     ]
    }
   ],
   "source": [
    "fixed_input = \"data_for_training/Groundwater_presence.csv\"\n",
    "data = pd.read_csv(fixed_input, delimiter = ',')\n",
    "print(data.head(50))"
   ]
  },
  {
   "cell_type": "markdown",
   "metadata": {},
   "source": [
    "# Step 2: QA/QC processing to remove outlier values\n",
    "\n",
    "Assuming you have 2D resistivity values (x, depth, rho) and an indicator for groundwater presence\n",
    "Example: x_coord, y_coord, rho, groundwater_presence, groundwater_depth"
   ]
  },
  {
   "cell_type": "markdown",
   "metadata": {},
   "source": [
    "Calculate the z-scores of the resistivity values"
   ]
  },
  {
   "cell_type": "code",
   "execution_count": 30,
   "metadata": {},
   "outputs": [],
   "source": [
    "z_scores = (data['rho'] - data['rho'].mean()) / data['rho'].std()"
   ]
  },
  {
   "cell_type": "markdown",
   "metadata": {},
   "source": [
    "Define a threshold for z-scores beyond which data points are considered outliers\n"
   ]
  },
  {
   "cell_type": "code",
   "execution_count": 31,
   "metadata": {},
   "outputs": [],
   "source": [
    "z_score_threshold = 3  # Adjust this threshold as needed"
   ]
  },
  {
   "cell_type": "markdown",
   "metadata": {},
   "source": [
    "Create a boolean mask to identify outlier data points"
   ]
  },
  {
   "cell_type": "code",
   "execution_count": 32,
   "metadata": {},
   "outputs": [],
   "source": [
    "outliers_mask = abs(z_scores) > z_score_threshold"
   ]
  },
  {
   "cell_type": "markdown",
   "metadata": {},
   "source": [
    "Remove outlier data points from the dataset"
   ]
  },
  {
   "cell_type": "code",
   "execution_count": 33,
   "metadata": {},
   "outputs": [],
   "source": [
    "data_no_outliers = data[~outliers_mask]"
   ]
  },
  {
   "cell_type": "markdown",
   "metadata": {},
   "source": [
    "# Step 3: Data splitting"
   ]
  },
  {
   "cell_type": "code",
   "execution_count": 34,
   "metadata": {},
   "outputs": [],
   "source": [
    "X = data_no_outliers.drop([\"groundwater_presence\"], axis=1)  # Features (elec_pos, depth, rho, cond)\n",
    "y_presence = data_no_outliers[\"groundwater_presence\"]  # Target variable for presence\n",
    "X_train, X_test, y_presence_train, y_presence_test = train_test_split(X, y_presence, test_size=0.2, random_state=42)"
   ]
  },
  {
   "cell_type": "markdown",
   "metadata": {},
   "source": [
    "# Step 4: Model selection"
   ]
  },
  {
   "cell_type": "code",
   "execution_count": 35,
   "metadata": {},
   "outputs": [],
   "source": [
    "model = RandomForestClassifier(random_state=42)"
   ]
  },
  {
   "cell_type": "markdown",
   "metadata": {},
   "source": [
    "# Step 5: Model training"
   ]
  },
  {
   "cell_type": "code",
   "execution_count": 36,
   "metadata": {},
   "outputs": [
    {
     "data": {
      "text/html": [
       "<style>#sk-container-id-2 {color: black;}#sk-container-id-2 pre{padding: 0;}#sk-container-id-2 div.sk-toggleable {background-color: white;}#sk-container-id-2 label.sk-toggleable__label {cursor: pointer;display: block;width: 100%;margin-bottom: 0;padding: 0.3em;box-sizing: border-box;text-align: center;}#sk-container-id-2 label.sk-toggleable__label-arrow:before {content: \"▸\";float: left;margin-right: 0.25em;color: #696969;}#sk-container-id-2 label.sk-toggleable__label-arrow:hover:before {color: black;}#sk-container-id-2 div.sk-estimator:hover label.sk-toggleable__label-arrow:before {color: black;}#sk-container-id-2 div.sk-toggleable__content {max-height: 0;max-width: 0;overflow: hidden;text-align: left;background-color: #f0f8ff;}#sk-container-id-2 div.sk-toggleable__content pre {margin: 0.2em;color: black;border-radius: 0.25em;background-color: #f0f8ff;}#sk-container-id-2 input.sk-toggleable__control:checked~div.sk-toggleable__content {max-height: 200px;max-width: 100%;overflow: auto;}#sk-container-id-2 input.sk-toggleable__control:checked~label.sk-toggleable__label-arrow:before {content: \"▾\";}#sk-container-id-2 div.sk-estimator input.sk-toggleable__control:checked~label.sk-toggleable__label {background-color: #d4ebff;}#sk-container-id-2 div.sk-label input.sk-toggleable__control:checked~label.sk-toggleable__label {background-color: #d4ebff;}#sk-container-id-2 input.sk-hidden--visually {border: 0;clip: rect(1px 1px 1px 1px);clip: rect(1px, 1px, 1px, 1px);height: 1px;margin: -1px;overflow: hidden;padding: 0;position: absolute;width: 1px;}#sk-container-id-2 div.sk-estimator {font-family: monospace;background-color: #f0f8ff;border: 1px dotted black;border-radius: 0.25em;box-sizing: border-box;margin-bottom: 0.5em;}#sk-container-id-2 div.sk-estimator:hover {background-color: #d4ebff;}#sk-container-id-2 div.sk-parallel-item::after {content: \"\";width: 100%;border-bottom: 1px solid gray;flex-grow: 1;}#sk-container-id-2 div.sk-label:hover label.sk-toggleable__label {background-color: #d4ebff;}#sk-container-id-2 div.sk-serial::before {content: \"\";position: absolute;border-left: 1px solid gray;box-sizing: border-box;top: 0;bottom: 0;left: 50%;z-index: 0;}#sk-container-id-2 div.sk-serial {display: flex;flex-direction: column;align-items: center;background-color: white;padding-right: 0.2em;padding-left: 0.2em;position: relative;}#sk-container-id-2 div.sk-item {position: relative;z-index: 1;}#sk-container-id-2 div.sk-parallel {display: flex;align-items: stretch;justify-content: center;background-color: white;position: relative;}#sk-container-id-2 div.sk-item::before, #sk-container-id-2 div.sk-parallel-item::before {content: \"\";position: absolute;border-left: 1px solid gray;box-sizing: border-box;top: 0;bottom: 0;left: 50%;z-index: -1;}#sk-container-id-2 div.sk-parallel-item {display: flex;flex-direction: column;z-index: 1;position: relative;background-color: white;}#sk-container-id-2 div.sk-parallel-item:first-child::after {align-self: flex-end;width: 50%;}#sk-container-id-2 div.sk-parallel-item:last-child::after {align-self: flex-start;width: 50%;}#sk-container-id-2 div.sk-parallel-item:only-child::after {width: 0;}#sk-container-id-2 div.sk-dashed-wrapped {border: 1px dashed gray;margin: 0 0.4em 0.5em 0.4em;box-sizing: border-box;padding-bottom: 0.4em;background-color: white;}#sk-container-id-2 div.sk-label label {font-family: monospace;font-weight: bold;display: inline-block;line-height: 1.2em;}#sk-container-id-2 div.sk-label-container {text-align: center;}#sk-container-id-2 div.sk-container {/* jupyter's `normalize.less` sets `[hidden] { display: none; }` but bootstrap.min.css set `[hidden] { display: none !important; }` so we also need the `!important` here to be able to override the default hidden behavior on the sphinx rendered scikit-learn.org. See: https://github.com/scikit-learn/scikit-learn/issues/21755 */display: inline-block !important;position: relative;}#sk-container-id-2 div.sk-text-repr-fallback {display: none;}</style><div id=\"sk-container-id-2\" class=\"sk-top-container\"><div class=\"sk-text-repr-fallback\"><pre>RandomForestClassifier(random_state=42)</pre><b>In a Jupyter environment, please rerun this cell to show the HTML representation or trust the notebook. <br />On GitHub, the HTML representation is unable to render, please try loading this page with nbviewer.org.</b></div><div class=\"sk-container\" hidden><div class=\"sk-item\"><div class=\"sk-estimator sk-toggleable\"><input class=\"sk-toggleable__control sk-hidden--visually\" id=\"sk-estimator-id-2\" type=\"checkbox\" checked><label for=\"sk-estimator-id-2\" class=\"sk-toggleable__label sk-toggleable__label-arrow\">RandomForestClassifier</label><div class=\"sk-toggleable__content\"><pre>RandomForestClassifier(random_state=42)</pre></div></div></div></div></div>"
      ],
      "text/plain": [
       "RandomForestClassifier(random_state=42)"
      ]
     },
     "execution_count": 36,
     "metadata": {},
     "output_type": "execute_result"
    }
   ],
   "source": [
    "model.fit(X_train, y_presence_train)"
   ]
  },
  {
   "cell_type": "markdown",
   "metadata": {},
   "source": [
    "# Step 6: Model evaluation"
   ]
  },
  {
   "cell_type": "code",
   "execution_count": 37,
   "metadata": {},
   "outputs": [
    {
     "name": "stdout",
     "output_type": "stream",
     "text": [
      "Accuracy for Groundwater Presence: 1.0\n",
      "Classification Report for Groundwater Presence:\n",
      "               precision    recall  f1-score   support\n",
      "\n",
      "           0       1.00      1.00      1.00        54\n",
      "           1       1.00      1.00      1.00         8\n",
      "\n",
      "    accuracy                           1.00        62\n",
      "   macro avg       1.00      1.00      1.00        62\n",
      "weighted avg       1.00      1.00      1.00        62\n",
      "\n"
     ]
    }
   ],
   "source": [
    "y_presence_pred = model.predict(X_test)\n",
    "accuracy_presence = accuracy_score(y_presence_test, y_presence_pred)\n",
    "classification_rep_presence = classification_report(y_presence_test, y_presence_pred)\n",
    "print(\"Accuracy for Groundwater Presence:\", accuracy_presence)\n",
    "print(\"Classification Report for Groundwater Presence:\\n\", classification_rep_presence)"
   ]
  },
  {
   "cell_type": "markdown",
   "metadata": {},
   "source": [
    "# Step 7: Hyperparameter tuning (optional)"
   ]
  },
  {
   "cell_type": "code",
   "execution_count": 38,
   "metadata": {},
   "outputs": [],
   "source": [
    "param_grid = {\n",
    "    'clf__n_estimators': [100, 200, 300],\n",
    "    'clf__max_depth': [None, 10, 20],\n",
    "    'clf__min_samples_split': [2, 5, 10],\n",
    "    'clf__min_samples_leaf': [1, 2, 4]\n",
    "}\n",
    "\n",
    "pipeline = Pipeline([\n",
    "    ('scaler', StandardScaler()),  # Feature scaling\n",
    "    ('clf', RandomForestClassifier(random_state=42))\n",
    "])\n",
    "\n",
    "grid_search = GridSearchCV(pipeline, param_grid, cv=5, n_jobs=-1)\n",
    "grid_search.fit(X_train, y_presence_train)\n",
    "\n",
    "best_model_presence = grid_search.best_estimator_"
   ]
  },
  {
   "cell_type": "markdown",
   "metadata": {},
   "source": [
    "# Step 8: Model interpretation"
   ]
  },
  {
   "cell_type": "code",
   "execution_count": 39,
   "metadata": {},
   "outputs": [
    {
     "name": "stdout",
     "output_type": "stream",
     "text": [
      "Feature Importances for Groundwater Presence:\n",
      "cond: 0.4874854112203674\n",
      "rho: 0.48595880700634425\n",
      "depth: 0.024578194456372146\n",
      "elec_pos: 0.0019775873169161438\n"
     ]
    }
   ],
   "source": [
    "importances_presence = best_model_presence.named_steps['clf'].feature_importances_\n",
    "feature_names_presence = X_train.columns\n",
    "feature_importances_presence = dict(zip(feature_names_presence, importances_presence))\n",
    "sorted_feature_importances_presence = sorted(feature_importances_presence.items(), key=lambda x: x[1], reverse=True)\n",
    "\n",
    "print(\"Feature Importances for Groundwater Presence:\")\n",
    "for feature, importance in sorted_feature_importances_presence:\n",
    "    print(f\"{feature}: {importance}\")"
   ]
  },
  {
   "cell_type": "markdown",
   "metadata": {},
   "source": [
    "# Step 9: Prediction and visualization"
   ]
  },
  {
   "cell_type": "markdown",
   "metadata": {},
   "source": [
    "Import dependencies"
   ]
  },
  {
   "cell_type": "code",
   "execution_count": 40,
   "metadata": {},
   "outputs": [],
   "source": [
    "import numpy as np\n",
    "import matplotlib.pyplot as plt"
   ]
  },
  {
   "cell_type": "markdown",
   "metadata": {},
   "source": [
    "Create a meshgrid for electrode position and depth"
   ]
  },
  {
   "cell_type": "code",
   "execution_count": 45,
   "metadata": {},
   "outputs": [],
   "source": [
    "elec_pos_values = np.unique(X_test['elec_pos'])\n",
    "depth_values = np.unique(X_test['depth'])\n",
    "X, Y = np.meshgrid(elec_pos_values, depth_values)"
   ]
  },
  {
   "cell_type": "markdown",
   "metadata": {},
   "source": [
    "Reshape the data for visualization: create a new array to hold the predicted values. Initialize it with zeros & terate through your y_presence_pred array and assign the values to the corresponding positions in the Z array using the meshgrid indices"
   ]
  },
  {
   "cell_type": "code",
   "execution_count": 53,
   "metadata": {},
   "outputs": [],
   "source": [
    "Z = np.zeros(X.shape)  # Initialize an empty grid\n",
    "index = 0\n",
    "for i, elec_pos in enumerate(elec_pos_values):\n",
    "    for j, depth in enumerate(depth_values):\n",
    "        if index < len(y_presence_pred):  # Make sure to access valid indices\n",
    "            Z[j, i] = y_presence_pred[index]\n",
    "        index += 1\n",
    "        if index >= len(y_presence_pred):\n",
    "            break  # Exit the loop if we've reached the end of y_presence_pred"
   ]
  },
  {
   "cell_type": "markdown",
   "metadata": {},
   "source": [
    "Create the contour plot"
   ]
  },
  {
   "cell_type": "code",
   "execution_count": 62,
   "metadata": {},
   "outputs": [
    {
     "data": {
      "image/png": "[encoded data removed]",
      "text/plain": [
       "<Figure size 1000x600 with 2 Axes>"
      ]
     },
     "metadata": {},
     "output_type": "display_data"
    }
   ],
   "source": [
    "plt.figure(figsize=(10, 6))\n",
    "contour = plt.contourf(X, Y, Z, levels=20, cmap='viridis')\n",
    " \n",
    "plt.title('2D Subsurface Profile - Groundwater Presence', pad=20)\n",
    "\n",
    "plt.colorbar(contour, label='Groundwater Presence')\n",
    "\n",
    "plt.xlabel('Electrode Position')\n",
    "plt.gca().xaxis.tick_top()\n",
    "plt.gca().xaxis.set_label_position('top')\n",
    "\n",
    "plt.ylabel('Depth')\n",
    "plt.gca().xaxis.tick_top()\n",
    "plt.gca().invert_yaxis()  \n",
    "\n",
    "plt.savefig('2d_subsurface_profile_presence.png')\n",
    "plt.show()"
   ]
  },
  {
   "cell_type": "markdown",
   "metadata": {},
   "source": [
    "# Step 10: Model deployment (optional)"
   ]
  },
  {
   "cell_type": "code",
   "execution_count": 58,
   "metadata": {},
   "outputs": [
    {
     "name": "stdout",
     "output_type": "stream",
     "text": [
      " * Serving Flask app '__main__'\n",
      " * Debug mode: off\n"
     ]
    },
    {
     "name": "stderr",
     "output_type": "stream",
     "text": [
      "\u001b[31m\u001b[1mWARNING: This is a development server. Do not use it in a production deployment. Use a production WSGI server instead.\u001b[0m\n",
      " * Running on http://127.0.0.1:5000\n",
      "\u001b[33mPress CTRL+C to quit\u001b[0m\n"
     ]
    }
   ],
   "source": [
    "app = Flask(__name__)\n",
    "\n",
    "@app.route('/predict', methods=['POST'])\n",
    "def predict():\n",
    "    data = request.json  # Assuming you send JSON data with x, y, and rho values\n",
    "    prediction_presence = best_model_presence.predict([data])[0]\n",
    "    response = {'groundwater_presence_prediction': 'Yes' if prediction_presence == 1 else 'No'}\n",
    "    return jsonify(response)\n",
    "\n",
    "if __name__ == '__main__':\n",
    "    app.run()"
   ]
  }
 ],
 "metadata": {
  "kernelspec": {
   "display_name": "ml",
   "language": "python",
   "name": "python3"
  },
  "language_info": {
   "codemirror_mode": {
    "name": "ipython",
    "version": 3
   },
   "file_extension": ".py",
   "mimetype": "text/x-python",
   "name": "python",
   "nbconvert_exporter": "python",
   "pygments_lexer": "ipython3",
   "version": "3.10.12"
  },
  "orig_nbformat": 4
 },
 "nbformat": 4,
 "nbformat_minor": 2
}
