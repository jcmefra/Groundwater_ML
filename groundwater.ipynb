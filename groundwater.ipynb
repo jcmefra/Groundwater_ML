{
 "cells": [
  {
   "cell_type": "markdown",
   "metadata": {},
   "source": [
    "# ML Model for Groundwater detection based on resistivity values\n",
    "**Author: Camilo Mejía**"
   ]
  },
  {
   "cell_type": "markdown",
   "metadata": {},
   "source": [
    "Import Dependencies"
   ]
  },
  {
   "cell_type": "code",
   "execution_count": null,
   "metadata": {},
   "outputs": [],
   "source": [
    "import pandas as pd\n",
    "from sklearn.model_selection import train_test_split, GridSearchCV\n",
    "from sklearn.ensemble import RandomForestClassifier\n",
    "from sklearn.preprocessing import StandardScaler\n",
    "from sklearn.metrics import accuracy_score, classification_report\n",
    "import folium\n",
    "from flask import Flask, request, jsonify\n",
    "from sklearn.pipeline import Pipeline"
   ]
  },
  {
   "cell_type": "markdown",
   "metadata": {},
   "source": [
    "Load and preprocess the dataset"
   ]
  },
  {
   "cell_type": "code",
   "execution_count": null,
   "metadata": {},
   "outputs": [],
   "source": [
    "data = pd.read_csv(\"my_data.dat\", delimiter='\\t')  # Adjust delimiter if needed\n",
    "# ... Data preprocessing steps here"
   ]
  },
  {
   "cell_type": "markdown",
   "metadata": {},
   "source": [
    "# Step 2: QA/QC processing to remove outlier values\n",
    "\n",
    "Assuming you have 2D resistivity values (x, y, rho) and an indicator for groundwater presence\n",
    "Example: x_coord, y_coord, rho, groundwater_presence, groundwater_depth"
   ]
  },
  {
   "cell_type": "markdown",
   "metadata": {},
   "source": [
    "Calculate the z-scores of the resistivity values"
   ]
  },
  {
   "cell_type": "code",
   "execution_count": null,
   "metadata": {},
   "outputs": [],
   "source": [
    "z_scores = (data['rho'] - data['rho'].mean()) / data['rho'].std()"
   ]
  },
  {
   "cell_type": "markdown",
   "metadata": {},
   "source": [
    "Define a threshold for z-scores beyond which data points are considered outliers\n"
   ]
  },
  {
   "cell_type": "code",
   "execution_count": null,
   "metadata": {},
   "outputs": [],
   "source": [
    "z_score_threshold = 3  # Adjust this threshold as needed"
   ]
  },
  {
   "cell_type": "markdown",
   "metadata": {},
   "source": [
    "Create a boolean mask to identify outlier data points"
   ]
  },
  {
   "cell_type": "code",
   "execution_count": null,
   "metadata": {},
   "outputs": [],
   "source": [
    "outliers_mask = abs(z_scores) > z_score_threshold"
   ]
  },
  {
   "cell_type": "markdown",
   "metadata": {},
   "source": [
    "Remove outlier data points from the dataset"
   ]
  },
  {
   "cell_type": "code",
   "execution_count": null,
   "metadata": {},
   "outputs": [],
   "source": [
    "data_no_outliers = data[~outliers_mask]"
   ]
  },
  {
   "cell_type": "markdown",
   "metadata": {},
   "source": [
    "# Step 3: Data splitting"
   ]
  },
  {
   "cell_type": "code",
   "execution_count": null,
   "metadata": {},
   "outputs": [],
   "source": [
    "X = data_no_outliers.drop([\"groundwater_presence\", \"groundwater_depth\"], axis=1)  # Features (x, y, and rho)\n",
    "y_presence = data_no_outliers[\"groundwater_presence\"]  # Target variable for presence\n",
    "y_depth = data_no_outliers[\"groundwater_depth\"]  # Target variable for depth\n",
    "X_train, X_test, y_presence_train, y_presence_test, y_depth_train, y_depth_test = train_test_split(X, y_presence, y_depth, test_size=0.2, random_state=42)"
   ]
  },
  {
   "cell_type": "markdown",
   "metadata": {},
   "source": [
    "# Step 4: Model selection"
   ]
  },
  {
   "cell_type": "code",
   "execution_count": null,
   "metadata": {},
   "outputs": [],
   "source": [
    "model = RandomForestClassifier(random_state=42)"
   ]
  },
  {
   "cell_type": "markdown",
   "metadata": {},
   "source": [
    "# Step 5: Model training"
   ]
  },
  {
   "cell_type": "code",
   "execution_count": null,
   "metadata": {},
   "outputs": [],
   "source": [
    "model.fit(X_train, y_presence_train)"
   ]
  },
  {
   "cell_type": "markdown",
   "metadata": {},
   "source": [
    "# Step 6: Model evaluation"
   ]
  },
  {
   "cell_type": "code",
   "execution_count": null,
   "metadata": {},
   "outputs": [],
   "source": [
    "y_presence_pred = model.predict(X_test)\n",
    "accuracy_presence = accuracy_score(y_presence_test, y_presence_pred)\n",
    "classification_rep_presence = classification_report(y_presence_test, y_presence_pred)\n",
    "print(\"Accuracy for Groundwater Presence:\", accuracy_presence)\n",
    "print(\"Classification Report for Groundwater Presence:\\n\", classification_rep_presence)"
   ]
  },
  {
   "cell_type": "markdown",
   "metadata": {},
   "source": [
    "# Step 7: Hyperparameter tuning (optional)"
   ]
  },
  {
   "cell_type": "code",
   "execution_count": null,
   "metadata": {},
   "outputs": [],
   "source": [
    "param_grid = {\n",
    "    'n_estimators': [100, 200, 300],\n",
    "    'max_depth': [None, 10, 20],\n",
    "    'min_samples_split': [2, 5, 10],\n",
    "    'min_samples_leaf': [1, 2, 4]\n",
    "}\n",
    "\n",
    "pipeline = Pipeline([\n",
    "    ('scaler', StandardScaler()),  # Feature scaling\n",
    "    ('clf', RandomForestClassifier(random_state=42))\n",
    "])\n",
    "\n",
    "grid_search = GridSearchCV(pipeline, param_grid, cv=5, n_jobs=-1)\n",
    "grid_search.fit(X_train, y_presence_train)\n",
    "\n",
    "best_model_presence = grid_search.best_estimator_\n"
   ]
  },
  {
   "cell_type": "markdown",
   "metadata": {},
   "source": [
    "# Step 8: Model interpretation"
   ]
  },
  {
   "cell_type": "code",
   "execution_count": null,
   "metadata": {},
   "outputs": [],
   "source": [
    "importances_presence = best_model_presence.named_steps['clf'].feature_importances_\n",
    "feature_names_presence = X_train.columns\n",
    "feature_importances_presence = dict(zip(feature_names_presence, importances_presence))\n",
    "sorted_feature_importances_presence = sorted(feature_importances_presence.items(), key=lambda x: x[1], reverse=True)\n",
    "\n",
    "print(\"Feature Importances for Groundwater Presence:\")\n",
    "for feature, importance in sorted_feature_importances_presence:\n",
    "    print(f\"{feature}: {importance}\")"
   ]
  },
  {
   "cell_type": "markdown",
   "metadata": {},
   "source": [
    "# Step 9: Prediction and visualization"
   ]
  },
  {
   "cell_type": "code",
   "execution_count": null,
   "metadata": {},
   "outputs": [],
   "source": [
    "m = folium.Map(location=[latitude_center, longitude_center], zoom_start=10)\n",
    "\n",
    "for index, row in X_test.iterrows():\n",
    "    lat, lon = row[\"x_coord\"], row[\"y_coord\"]  # Adjust column names accordingly\n",
    "    prediction_presence = best_model_presence.predict([row])[0]\n",
    "    popup_text = f\"Groundwater Presence: {'Yes' if prediction_presence == 1 else 'No'}\"\n",
    "    popup = folium.Popup(popup_text, parse_html=True)\n",
    "    marker = folium.Marker([lat, lon], popup=popup)\n",
    "    marker.add_to(m)\n",
    "\n",
    "m.save(\"groundwater_presence_predictions_map.html\")\n"
   ]
  },
  {
   "cell_type": "markdown",
   "metadata": {},
   "source": [
    "# Step 10: Model deployment (optional)"
   ]
  },
  {
   "cell_type": "code",
   "execution_count": null,
   "metadata": {},
   "outputs": [],
   "source": [
    "app = Flask(__name__)\n",
    "\n",
    "@app.route('/predict', methods=['POST'])\n",
    "def predict():\n",
    "    data = request.json  # Assuming you send JSON data with x, y, and rho values\n",
    "    prediction_presence = best_model_presence.predict([data])[0]\n",
    "    response = {'groundwater_presence_prediction': 'Yes' if prediction_presence == 1 else 'No'}\n",
    "    return jsonify(response)\n",
    "\n",
    "if __name__ == '__main__':\n",
    "    app.run()"
   ]
  }
 ],
 "metadata": {
  "kernelspec": {
   "display_name": "ml",
   "language": "python",
   "name": "python3"
  },
  "language_info": {
   "name": "python",
   "version": "3.10.12"
  },
  "orig_nbformat": 4
 },
 "nbformat": 4,
 "nbformat_minor": 2
}
